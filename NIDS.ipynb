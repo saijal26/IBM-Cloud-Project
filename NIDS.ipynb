{
 "cells": [
  {
   "cell_type": "markdown",
   "metadata": {},
   "source": [
    "![svg image](data:image/svg+xml,%3Csvg%20version%3D%221.1%22%20id%3D%22Layer_1%22%20xmlns%3D%22http%3A%2F%2Fwww.w3.org%2F2000%2Fsvg%22%20xmlns%3Axlink%3D%22http%3A%2F%2Fwww.w3.org%2F1999%2Fxlink%22%20x%3D%220px%22%20y%3D%220px%22%0A%09%20viewBox%3D%220%200%201796%20100%22%20style%3D%22enable-background%3Anew%200%200%201796%20100%3B%22%20xml%3Aspace%3D%22preserve%22%3E%0A%3Cstyle%20type%3D%22text%2Fcss%22%3E%0A%09.st0%7Bfill-rule%3Aevenodd%3Bclip-rule%3Aevenodd%3Bfill%3Aurl%28%23SVGID_1_%29%3B%7D%0A%09.st1%7Bclip-path%3Aurl%28%23SVGID_00000178915391776407424850000007341318225791887491_%29%3B%7D%0A%09.st2%7Bfill%3Aurl%28%23SVGID_00000072959074018647863330000000566853838299270530_%29%3B%7D%0A%09.st3%7Bclip-path%3Aurl%28%23SVGID_00000088832798360344817880000014420072439252153242_%29%3B%7D%0A%09.st4%7Bfill%3Aurl%28%23SVGID_00000115487599576311285860000000799671087605023907_%29%3B%7D%0A%09.st5%7Bfill%3Anone%3Bstroke%3A%23FFFFFF%3Bstroke-width%3A2%3Bstroke-miterlimit%3A10%3B%7D%0A%09.st6%7Bfill%3Anone%3Bstroke%3A%23FFFFFF%3Bstroke-width%3A1.5%3Bstroke-miterlimit%3A10%3B%7D%0A%09.st7%7Bopacity%3A0.2%3Bfill%3Aurl%28%23SVGID_00000045580851177316760270000016912490179557547437_%29%3Benable-background%3Anew%20%20%20%20%3B%7D%0A%09.st8%7Bfill%3A%23FFFFFF%3B%7D%0A%09.st9%7Bfont-family%3A%27IBMPlexSans-Medium%27%3B%7D%0A%09.st10%7Bfont-size%3A32px%3B%7D%0A%09.st11%7Bfont-family%3A%27IBMPlexSans%27%3B%7D%0A%09.st12%7Bfill%3A%233D3D3D%3B%7D%0A%09.st13%7Bfill%3A%23939598%3B%7D%0A%3C%2Fstyle%3E%0A%3Crect%20width%3D%221796%22%20height%3D%22100%22%2F%3E%0A%3ClinearGradient%20id%3D%22SVGID_1_%22%20gradientUnits%3D%22userSpaceOnUse%22%20x1%3D%2242.8625%22%20y1%3D%221027.998%22%20x2%3D%2279.71%22%20y2%3D%221027.998%22%20gradientTransform%3D%22matrix%281%200%200%201%200%20-978%29%22%3E%0A%09%3Cstop%20%20offset%3D%220%22%20style%3D%22stop-color%3A%23AB74FF%22%2F%3E%0A%09%3Cstop%20%20offset%3D%220.21%22%20style%3D%22stop-color%3A%23866AFF%22%2F%3E%0A%09%3Cstop%20%20offset%3D%220.75%22%20style%3D%22stop-color%3A%232A4FFF%22%2F%3E%0A%09%3Cstop%20%20offset%3D%221%22%20style%3D%22stop-color%3A%230645FF%22%2F%3E%0A%3C%2FlinearGradient%3E%0A%3Cpath%20class%3D%22st0%22%20d%3D%22M52.4%2C45.9c0-2.3%2C1.8-4.1%2C4.1-4.1s4.1%2C1.8%2C4.1%2C4.1S58.8%2C50%2C56.5%2C50l0%2C0c-2.2%2C0.1-4-1.7-4.1-3.9%0A%09C52.4%2C46%2C52.4%2C46%2C52.4%2C45.9z%20M77.5%2C52.5c-0.8-1.1-1.4-2.3-1.9-3.5c1.2-4.5%2C0.7-8.6-1.8-11.9c-2.9-3.8-8.2-6-14.5-6.1%0A%09c-4.5-0.1-8.8%2C1.7-12%2C4.8c-3%2C3-4.6%2C7.2-4.5%2C11.5c-0.1%2C2.9%2C0.9%2C5.8%2C2.7%2C8.1c0.8%2C0.8%2C1.3%2C1.9%2C1.4%2C3v4.5c-0.8%2C0.5-1.4%2C1.3-1.4%2C2.3%0A%09c0.2%2C1.5%2C1.5%2C2.6%2C3%2C2.4c1.2-0.2%2C2.2-1.1%2C2.4-2.4c0-1-0.5-1.9-1.4-2.3v-4.5c0-2-1-3.3-1.9-4.6c-1.5-1.9-2.2-4.2-2.1-6.5%0A%09c0-3.5%2C1.4-6.9%2C3.8-9.4c2.7-2.7%2C6.3-4.1%2C10-4.1c5.5%2C0%2C9.8%2C1.9%2C12.1%2C5c2%2C2.8%2C2.5%2C6.3%2C1.4%2C9.6c-0.4%2C1.2%2C0.6%2C2.7%2C2.3%2C5.6%0A%09c0.6%2C0.9%2C1.2%2C1.9%2C1.6%2C2.9c-0.9%2C0.7-2%2C1.2-3.1%2C1.5c-0.5%2C0.4-0.7%2C0.9-0.8%2C1.5V65c0%2C0.4-0.1%2C0.8-0.4%2C1.1c-0.3%2C0.2-0.7%2C0.3-1.1%2C0.3%0A%09c-1.6-0.3-3.4-0.7-5.2-1.1v-4.8c0.8-0.5%2C1.4-1.4%2C1.4-2.3c0-1.5-1.2-2.7-2.7-2.7s-2.7%2C1.2-2.7%2C2.7c0%2C1%2C0.5%2C1.9%2C1.4%2C2.3v4.1%0A%09c-0.4-0.1-0.7-0.1-1.1-0.3c-4.5-1.1-4.5-2.6-4.5-3.4v-8.3c3.2-0.7%2C5.4-3.5%2C5.5-6.7c-0.1-3.8-3.3-6.7-7.1-6.6c-3.6%2C0.1-6.4%2C3-6.6%2C6.6%0A%09c0%2C3.2%2C2.3%2C6%2C5.5%2C6.7v8.3c0%2C2%2C0.7%2C4.6%2C6.6%2C6.1c3%2C0.8%2C6%2C1.5%2C9.1%2C1.9c0.3%2C0%2C0.6%2C0.1%2C0.8%2C0.1c1%2C0%2C1.9-0.3%2C2.6-1%0A%09c0.9-0.8%2C1.4-1.9%2C1.4-3.1v-4.5c2-0.8%2C4.1-2%2C4.1-3.7C79.7%2C55.9%2C79%2C54.6%2C77.5%2C52.5z%22%2F%3E%0A%3Cg%3E%0A%09%3Cg%3E%0A%09%09%3Cdefs%3E%0A%09%09%09%3Cpath%20id%3D%22SVGID_00000103988023533243019020000015870306665051389114_%22%20d%3D%22M52.4%2C45.9c0-2.3%2C1.8-4.1%2C4.1-4.1s4.1%2C1.8%2C4.1%2C4.1%0A%09%09%09%09S58.8%2C50%2C56.5%2C50l0%2C0c-2.2%2C0.1-4-1.7-4.1-3.9C52.4%2C46%2C52.4%2C46%2C52.4%2C45.9z%20M77.5%2C52.5c-0.8-1.1-1.4-2.3-1.9-3.5%0A%09%09%09%09c1.2-4.5%2C0.7-8.6-1.8-11.9c-2.9-3.8-8.2-6-14.5-6.1c-4.5-0.1-8.8%2C1.7-12%2C4.8c-3%2C3-4.6%2C7.2-4.5%2C11.5c-0.1%2C2.9%2C0.9%2C5.8%2C2.7%2C8.1%0A%09%09%09%09c0.8%2C0.8%2C1.3%2C1.9%2C1.4%2C3v4.5c-0.8%2C0.5-1.4%2C1.3-1.4%2C2.3c0.2%2C1.5%2C1.5%2C2.6%2C3%2C2.4c1.2-0.2%2C2.2-1.1%2C2.4-2.4c0-1-0.5-1.9-1.4-2.3v-4.5%0A%09%09%09%09c0-2-1-3.3-1.9-4.6c-1.5-1.9-2.2-4.2-2.1-6.5c0-3.5%2C1.4-6.9%2C3.8-9.4c2.7-2.7%2C6.3-4.1%2C10-4.1c5.5%2C0%2C9.8%2C1.9%2C12.1%2C5%0A%09%09%09%09c2%2C2.8%2C2.5%2C6.3%2C1.4%2C9.6c-0.4%2C1.2%2C0.6%2C2.7%2C2.3%2C5.6c0.6%2C0.9%2C1.2%2C1.9%2C1.6%2C2.9c-0.9%2C0.7-2%2C1.2-3.1%2C1.5c-0.5%2C0.4-0.7%2C0.9-0.8%2C1.5V65%0A%09%09%09%09c0%2C0.4-0.1%2C0.8-0.4%2C1.1c-0.3%2C0.2-0.7%2C0.3-1.1%2C0.3c-1.6-0.3-3.4-0.7-5.2-1.1v-4.8c0.8-0.5%2C1.4-1.4%2C1.4-2.3c0-1.5-1.2-2.7-2.7-2.7%0A%09%09%09%09s-2.7%2C1.2-2.7%2C2.7c0%2C1%2C0.5%2C1.9%2C1.4%2C2.3v4.1c-0.4-0.1-0.7-0.1-1.1-0.3c-4.5-1.1-4.5-2.6-4.5-3.4v-8.3c3.2-0.7%2C5.4-3.5%2C5.5-6.7%0A%09%09%09%09c-0.1-3.8-3.3-6.7-7.1-6.6c-3.6%2C0.1-6.4%2C3-6.6%2C6.6c0%2C3.2%2C2.3%2C6%2C5.5%2C6.7v8.3c0%2C2%2C0.7%2C4.6%2C6.6%2C6.1c3%2C0.8%2C6%2C1.5%2C9.1%2C1.9%0A%09%09%09%09c0.3%2C0%2C0.6%2C0.1%2C0.8%2C0.1c1%2C0%2C1.9-0.3%2C2.6-1c0.9-0.8%2C1.4-1.9%2C1.4-3.1v-4.5c2-0.8%2C4.1-2%2C4.1-3.7C79.7%2C55.9%2C79%2C54.6%2C77.5%2C52.5z%22%2F%3E%0A%09%09%3C%2Fdefs%3E%0A%09%09%3CclipPath%20id%3D%22SVGID_00000163075222211376611200000003176213376109670824_%22%3E%0A%09%09%09%3Cuse%20xlink%3Ahref%3D%22%23SVGID_00000103988023533243019020000015870306665051389114_%22%20%20style%3D%22overflow%3Avisible%3B%22%2F%3E%0A%09%09%3C%2FclipPath%3E%0A%09%09%3Cg%20style%3D%22clip-path%3Aurl%28%23SVGID_00000163075222211376611200000003176213376109670824_%29%3B%22%3E%0A%09%09%09%0A%09%09%09%09%3ClinearGradient%20id%3D%22SVGID_00000111891139058751766020000017047336746994893708_%22%20gradientUnits%3D%22userSpaceOnUse%22%20x1%3D%22-1341.4%22%20y1%3D%22805.5%22%20x2%3D%22449.7%22%20y2%3D%22805.5%22%20gradientTransform%3D%22matrix%281%200%200%201%200%20-978%29%22%3E%0A%09%09%09%09%3Cstop%20%20offset%3D%220%22%20style%3D%22stop-color%3A%23AB74FF%22%2F%3E%0A%09%09%09%09%3Cstop%20%20offset%3D%220.21%22%20style%3D%22stop-color%3A%23866AFF%22%2F%3E%0A%09%09%09%09%3Cstop%20%20offset%3D%220.75%22%20style%3D%22stop-color%3A%232A4FFF%22%2F%3E%0A%09%09%09%09%3Cstop%20%20offset%3D%221%22%20style%3D%22stop-color%3A%230645FF%22%2F%3E%0A%09%09%09%3C%2FlinearGradient%3E%0A%09%09%09%0A%09%09%09%09%3Crect%20x%3D%22-1341.4%22%20y%3D%22-876.9%22%20style%3D%22fill%3Aurl%28%23SVGID_00000111891139058751766020000017047336746994893708_%29%3B%22%20width%3D%221791.1%22%20height%3D%221408.8%22%2F%3E%0A%09%09%09%3Cg%3E%0A%09%09%09%09%3Cg%3E%0A%09%09%09%09%09%3Cdefs%3E%0A%09%09%09%09%09%09%0A%09%09%09%09%09%09%09%3Crect%20id%3D%22SVGID_00000103231572956238640970000011034158940870041505_%22%20x%3D%22-1341.4%22%20y%3D%22-876.9%22%20width%3D%221791.1%22%20height%3D%221408.8%22%2F%3E%0A%09%09%09%09%09%3C%2Fdefs%3E%0A%09%09%09%09%09%3CclipPath%20id%3D%22SVGID_00000076562667476129641040000017034118924293963927_%22%3E%0A%09%09%09%09%09%09%3Cuse%20xlink%3Ahref%3D%22%23SVGID_00000103231572956238640970000011034158940870041505_%22%20%20style%3D%22overflow%3Avisible%3B%22%2F%3E%0A%09%09%09%09%09%3C%2FclipPath%3E%0A%09%09%09%09%09%3Cg%20style%3D%22clip-path%3Aurl%28%23SVGID_00000076562667476129641040000017034118924293963927_%29%3B%22%3E%0A%09%09%09%09%09%09%0A%09%09%09%09%09%09%09%3ClinearGradient%20id%3D%22SVGID_00000002353593499038243250000000421055474946009746_%22%20gradientUnits%3D%22userSpaceOnUse%22%20x1%3D%2236%22%20y1%3D%221028.05%22%20x2%3D%2286.5%22%20y2%3D%221028.05%22%20gradientTransform%3D%22matrix%281%200%200%201%200%20-978%29%22%3E%0A%09%09%09%09%09%09%09%3Cstop%20%20offset%3D%220%22%20style%3D%22stop-color%3A%23AB74FF%22%2F%3E%0A%09%09%09%09%09%09%09%3Cstop%20%20offset%3D%220.21%22%20style%3D%22stop-color%3A%23866AFF%22%2F%3E%0A%09%09%09%09%09%09%09%3Cstop%20%20offset%3D%220.75%22%20style%3D%22stop-color%3A%232A4FFF%22%2F%3E%0A%09%09%09%09%09%09%09%3Cstop%20%20offset%3D%221%22%20style%3D%22stop-color%3A%230645FF%22%2F%3E%0A%09%09%09%09%09%09%3C%2FlinearGradient%3E%0A%09%09%09%09%09%09%0A%09%09%09%09%09%09%09%3Crect%20x%3D%2236%22%20y%3D%2224.1%22%20style%3D%22fill%3Aurl%28%23SVGID_00000002353593499038243250000000421055474946009746_%29%3B%22%20width%3D%2250.5%22%20height%3D%2251.9%22%2F%3E%0A%09%09%09%09%09%3C%2Fg%3E%0A%09%09%09%09%3C%2Fg%3E%0A%09%09%09%3C%2Fg%3E%0A%09%09%3C%2Fg%3E%0A%09%3C%2Fg%3E%0A%3C%2Fg%3E%0A%3Ccircle%20class%3D%22st5%22%20cx%3D%2256.5%22%20cy%3D%2245.9%22%20r%3D%225.4%22%2F%3E%0A%3Ccircle%20class%3D%22st6%22%20cx%3D%2248.3%22%20cy%3D%2265%22%20r%3D%221.6%22%2F%3E%0A%3Ccircle%20class%3D%22st6%22%20cx%3D%2264.8%22%20cy%3D%2258.2%22%20r%3D%221.6%22%2F%3E%0A%3ClinearGradient%20id%3D%22SVGID_00000124860236446931535290000008328801365185342639_%22%20gradientUnits%3D%22userSpaceOnUse%22%20x1%3D%22773.8%22%20y1%3D%221028%22%20x2%3D%221796%22%20y2%3D%221028%22%20gradientTransform%3D%22matrix%281%200%200%201%200%20-978%29%22%3E%0A%09%3Cstop%20%20offset%3D%220%22%20style%3D%22stop-color%3A%23161616%22%2F%3E%0A%09%3Cstop%20%20offset%3D%220.52%22%20style%3D%22stop-color%3A%23AB74FF%22%2F%3E%0A%09%3Cstop%20%20offset%3D%220.62%22%20style%3D%22stop-color%3A%23866AFF%22%2F%3E%0A%09%3Cstop%20%20offset%3D%220.88%22%20style%3D%22stop-color%3A%232A4FFF%22%2F%3E%0A%09%3Cstop%20%20offset%3D%221%22%20style%3D%22stop-color%3A%230645FF%22%2F%3E%0A%3C%2FlinearGradient%3E%0A%3Crect%20x%3D%22773.8%22%20style%3D%22opacity%3A0.2%3Bfill%3Aurl%28%23SVGID_00000124860236446931535290000008328801365185342639_%29%3Benable-background%3Anew%20%20%20%20%3B%22%20width%3D%221022.2%22%20height%3D%22100%22%2F%3E%0A%3Ctext%20transform%3D%22matrix%281%200%200%201%201498.5952%2059.46%29%22%20class%3D%22st8%20st9%20st10%22%3EPipeline%20notebook%3C%2Ftext%3E%0A%3Ctext%20transform%3D%22matrix%281%200%200%201%20101.02%2059.33%29%22%20class%3D%22st8%20st11%20st10%22%3EAutoAI%3C%2Ftext%3E%0A%3Crect%20x%3D%22231.1%22%20y%3D%2234%22%20class%3D%22st12%22%20width%3D%221%22%20height%3D%2232%22%2F%3E%0A%3Ctext%20transform%3D%22matrix%281%200%200%201%20256.29%2059.66%29%22%20class%3D%22st13%20st11%20st10%22%3EPart%20of%20IBM%20Watson%C2%AE%20Studio%3C%2Ftext%3E%0A%3C%2Fsvg%3E)\n",
    "# Pipeline 2 Notebook - AutoAI Notebook v2.1.7\n",
    "\n",
    "Consider these tips for working with an auto-generated notebook:\n",
    "- Notebook code generated using AutoAI will execute successfully. If you modify the notebook, we cannot guarantee it will run successfully.\n",
    "- This pipeline is optimized for the original data set. The pipeline might fail or produce sub-optimal results if used with different data.  If you want to use a different data set, consider retraining the AutoAI experiment to generate a new pipeline. For more information, see <a href=\"https://dataplatform.cloud.ibm.com/docs/content/wsj/analyze-data/autoai-notebook.html\">Cloud Platform</a>. \n",
    "- Before modifying the pipeline or trying to re-fit the pipeline, consider that the code converts dataframes to numpy arrays before fitting the pipeline (a current restriction of the preprocessor pipeline).\n"
   ]
  },
  {
   "cell_type": "markdown",
   "metadata": {},
   "source": [
    "<a id=\"content\"></a>\n",
    "## Notebook content\n",
    "\n",
    "This notebook contains a Scikit-learn representation of AutoAI pipeline. This notebook introduces commands for retrieving data, training the model, and testing the model. \n",
    "\n",
    "Some familiarity with Python is helpful. This notebook uses Python 3.11 and scikit-learn 1.3."
   ]
  },
  {
   "cell_type": "markdown",
   "metadata": {
    "pycharm": {
     "name": "#%% md\n"
    }
   },
   "source": [
    "## Notebook goals\n",
    "\n",
    "-  Scikit-learn pipeline definition\n",
    "-  Pipeline training \n",
    "-  Pipeline evaluation\n",
    "\n",
    "## Contents\n",
    "\n",
    "This notebook contains the following parts:\n",
    "\n",
    "**[Setup](#Setup)**<br>\n",
    "&nbsp;&nbsp;[Package installation](#Package-installation)<br>\n",
    "&nbsp;&nbsp;[AutoAI experiment metadata](#AutoAI-experiment-metadata)<br>\n",
    "&nbsp;&nbsp;[watsonx.ai connection](#watsonx.ai-connection)<br>\n",
    "**[Pipeline inspection](#Pipeline-inspection)** <br>\n",
    "&nbsp;&nbsp;[Read training data](#Read-training-data)<br>\n",
    "&nbsp;&nbsp;[Create pipeline](#Create-pipeline)<br>\n",
    "&nbsp;&nbsp;[Train pipeline model](#Train-pipeline-model)<br>\n",
    "&nbsp;&nbsp;[Test pipeline model](#Test-pipeline-model)<br>\n",
    "**[Store the model](#Store-the-model)**<br>\n",
    "**[Summary and next steps](#Summary-and-next-steps)**<br>\n",
    "**[Copyrights](#Copyrights)**"
   ]
  },
  {
   "cell_type": "markdown",
   "metadata": {},
   "source": [
    "<a id=\"setup\"></a>\n",
    "# Setup"
   ]
  },
  {
   "cell_type": "markdown",
   "metadata": {},
   "source": [
    "<a id=\"install\"></a>\n",
    "## Package installation\n",
    "Before you use the sample code in this notebook, install the following packages:\n",
    " - ibm-watsonx-ai,\n",
    " - autoai-libs,\n",
    " - scikit-learn,\n",
    " - snapml\n"
   ]
  },
  {
   "cell_type": "code",
   "execution_count": 1,
   "metadata": {
    "id": "4c982f79-3a56-4ab7-b38b-3f179ab0d4b4",
    "pycharm": {
     "name": "#%%\n"
    },
    "scrolled": true
   },
   "outputs": [
    {
     "name": "stdout",
     "output_type": "stream",
     "text": [
      "Requirement already satisfied: typing_extensions>=4.5 in /opt/conda/envs/Python-RT24.1/lib/python3.11/site-packages (from anyio->httpx<0.29,>=0.27->ibm-watsonx-ai) (4.12.2)\n",
      "Requirement already satisfied: sortedcontainers~=2.2 in /opt/conda/envs/Python-RT24.1/lib/python3.11/site-packages (from portion->jsonsubschema>=0.0.6->lale~=0.8.0->autoai-libs~=2.0) (2.4.0)\n",
      "Requirement already satisfied: threadpoolctl>=2.0.0 in /opt/conda/envs/Python-RT24.1/lib/python3.11/site-packages (from scikit-learn==1.3.*) (2.2.0)\n",
      "Requirement already satisfied: sortedcontainers~=2.2 in /opt/conda/envs/Python-RT24.1/lib/python3.11/site-packages (from portion->jsonsubschema>=0.0.6->lale~=0.8.3) (2.4.0)\n",
      "Requirement already satisfied: threadpoolctl>=2.0.0 in /opt/conda/envs/Python-RT24.1/lib/python3.11/site-packages (from scikit-learn->snapml==1.14.*) (2.2.0)\n"
     ]
    }
   ],
   "source": [
    "!pip install ibm-watsonx-ai | tail -n 1\n",
    "!pip install autoai-libs~=2.0 | tail -n 1\n",
    "!pip install scikit-learn==1.3.* | tail -n 1\n",
    "!pip install -U lale~=0.8.3 | tail -n 1\n",
    "!pip install snapml==1.14.* | tail -n 1"
   ]
  },
  {
   "cell_type": "markdown",
   "metadata": {},
   "source": [
    "Filter warnings for this notebook."
   ]
  },
  {
   "cell_type": "code",
   "execution_count": 2,
   "metadata": {
    "id": "8019ccd6-2a69-4895-8d8f-923b32f8c942"
   },
   "outputs": [],
   "source": [
    "import warnings\n",
    "\n",
    "warnings.filterwarnings('ignore')"
   ]
  },
  {
   "cell_type": "markdown",
   "metadata": {},
   "source": [
    "<a id=\"variables_definition\"></a>\n",
    "## AutoAI experiment metadata\n",
    "The following cell contains the training data connection details.  \n",
    "**Note**: The connection might contain authorization credentials, so be careful when sharing the notebook."
   ]
  },
  {
   "cell_type": "code",
   "execution_count": 3,
   "metadata": {
    "id": "83697c03-4187-4da9-ad37-d1a294f6cdb8",
    "pycharm": {
     "is_executing": true
    }
   },
   "outputs": [],
   "source": [
    "from ibm_watsonx_ai.helpers import DataConnection\n",
    "from ibm_watsonx_ai.helpers import ContainerLocation\n",
    "\n",
    "training_data_references = [\n",
    "    DataConnection(\n",
    "        data_asset_id='5b4d15f6-2ec9-47ee-b24b-945e34a56161'\n",
    "    ),\n",
    "]\n",
    "training_result_reference = DataConnection(\n",
    "    location=ContainerLocation(\n",
    "        path='auto_ml/f52e5453-f582-4473-8bfc-894b8234551f/wml_data/f5aa9362-44e6-45e8-adc1-e65e2f2c2669/data/automl',\n",
    "        model_location='auto_ml/f52e5453-f582-4473-8bfc-894b8234551f/wml_data/f5aa9362-44e6-45e8-adc1-e65e2f2c2669/data/automl/model.zip',\n",
    "        training_status='auto_ml/f52e5453-f582-4473-8bfc-894b8234551f/wml_data/f5aa9362-44e6-45e8-adc1-e65e2f2c2669/training-status.json'\n",
    "    )\n",
    ")"
   ]
  },
  {
   "cell_type": "markdown",
   "metadata": {},
   "source": [
    "The following cell contains input parameters provided to run the AutoAI experiment in Watson Studio."
   ]
  },
  {
   "cell_type": "code",
   "execution_count": 4,
   "metadata": {
    "id": "f6ef61b3-9d9b-4539-b9ae-15ce8aa7d3c9",
    "pycharm": {
     "name": "#%%\n"
    }
   },
   "outputs": [],
   "source": [
    "experiment_metadata = dict(\n",
    "    prediction_type='binary',\n",
    "    prediction_column='class',\n",
    "    holdout_size=0.1,\n",
    "    scoring='accuracy',\n",
    "    csv_separator=',',\n",
    "    random_state=33,\n",
    "    max_number_of_estimators=2,\n",
    "    training_data_references=training_data_references,\n",
    "    training_result_reference=training_result_reference,\n",
    "    deployment_url='https://au-syd.ml.cloud.ibm.com',\n",
    "    project_id='08cce406-9fd9-4ae7-b718-da7b8c415438',\n",
    "    positive_label='normal',\n",
    "    drop_duplicates=True,\n",
    "    include_batched_ensemble_estimators=['BatchedTreeEnsembleClassifier(ExtraTreesClassifier)', 'BatchedTreeEnsembleClassifier(LGBMClassifier)', 'BatchedTreeEnsembleClassifier(RandomForestClassifier)', 'BatchedTreeEnsembleClassifier(SnapBoostingMachineClassifier)', 'BatchedTreeEnsembleClassifier(SnapRandomForestClassifier)', 'BatchedTreeEnsembleClassifier(XGBClassifier)'],\n",
    "    feature_selector_mode='auto'\n",
    ")"
   ]
  },
  {
   "cell_type": "markdown",
   "metadata": {},
   "source": [
    "## Set `n_jobs` parameter to the number of available CPUs"
   ]
  },
  {
   "cell_type": "code",
   "execution_count": 5,
   "metadata": {
    "id": "f28ad952-9fc9-49bc-97ae-899dc9a6ba64"
   },
   "outputs": [],
   "source": [
    "import os, ast\n",
    "CPU_NUMBER = 4\n",
    "if 'RUNTIME_HARDWARE_SPEC' in os.environ:\n",
    "    CPU_NUMBER = int(ast.literal_eval(os.environ['RUNTIME_HARDWARE_SPEC'])['num_cpu'])"
   ]
  },
  {
   "cell_type": "markdown",
   "metadata": {},
   "source": [
    "<a id=\"connection\"></a>\n",
    "## watsonx.ai connection\n",
    "\n",
    "This cell defines the credentials required to work with the watsonx.ai Runtime.\n",
    "\n",
    "**Action**: Provide the IBM Cloud apikey, For details, see [documentation](https://cloud.ibm.com/docs/account?topic=account-userapikey)."
   ]
  },
  {
   "cell_type": "code",
   "execution_count": 6,
   "metadata": {
    "id": "c8e70189-5e1e-4599-8249-66b8a1ac29a0"
   },
   "outputs": [
    {
     "name": "stdin",
     "output_type": "stream",
     "text": [
      "Please enter your api key (press enter):  ········\n"
     ]
    }
   ],
   "source": [
    "import getpass\n",
    "\n",
    "api_key = getpass.getpass(\"Please enter your api key (press enter): \")"
   ]
  },
  {
   "cell_type": "code",
   "execution_count": 7,
   "metadata": {
    "id": "7ed1a5d6-f786-4d98-af7f-fe9def2a6d26"
   },
   "outputs": [],
   "source": [
    "from ibm_watsonx_ai import Credentials\n",
    "\n",
    "credentials = Credentials(\n",
    "    api_key=api_key,\n",
    "    url=experiment_metadata['deployment_url']\n",
    ")"
   ]
  },
  {
   "cell_type": "code",
   "execution_count": 8,
   "metadata": {
    "id": "f2efddbe-a454-480f-b51f-774a197dc921"
   },
   "outputs": [],
   "source": [
    "from ibm_watsonx_ai import APIClient\n",
    "\n",
    "client = APIClient(credentials)\n",
    "\n",
    "if 'space_id' in experiment_metadata:\n",
    "    client.set.default_space(experiment_metadata['space_id'])\n",
    "else:\n",
    "    client.set.default_project(experiment_metadata['project_id'])\n",
    "\n",
    "training_data_references[0].set_client(client)"
   ]
  },
  {
   "cell_type": "markdown",
   "metadata": {},
   "source": [
    "<a id=\"inspection\"></a>\n",
    "# Pipeline inspection"
   ]
  },
  {
   "cell_type": "markdown",
   "metadata": {},
   "source": [
    "<a id=\"read\"></a>\n",
    "## Read training data\n",
    "\n",
    "Retrieve training dataset from AutoAI experiment as pandas DataFrame.\n",
    "\n",
    "**Note**: If reading data results in an error, provide data as Pandas DataFrame object, for example, reading .CSV file with `pandas.read_csv()`.\n",
    "\n",
    "It may be necessary to use methods for initial data pre-processing like: e.g. `DataFrame.dropna()`, `DataFrame.drop_duplicates()`, `DataFrame.sample()`.\n"
   ]
  },
  {
   "cell_type": "code",
   "execution_count": 9,
   "metadata": {
    "id": "af84162b-b91c-4fc1-9106-5681515f96e8",
    "pycharm": {
     "is_executing": true,
     "name": "#%%\n"
    }
   },
   "outputs": [],
   "source": [
    "X_train, X_test, y_train, y_test = training_data_references[0].read(experiment_metadata=experiment_metadata, with_holdout_split=True, use_flight=True)"
   ]
  },
  {
   "cell_type": "markdown",
   "metadata": {
    "pycharm": {
     "name": "#%% md\n"
    }
   },
   "source": [
    "<a id=\"preview_model_to_python_code\"></a>\n",
    "## Create pipeline\n",
    "In the next cell, you can find the Scikit-learn definition of the selected AutoAI pipeline."
   ]
  },
  {
   "cell_type": "markdown",
   "metadata": {
    "pycharm": {
     "name": "#%% md\n"
    }
   },
   "source": [
    "#### Import statements."
   ]
  },
  {
   "cell_type": "code",
   "execution_count": 10,
   "metadata": {
    "id": "492ca198-f8e7-4a62-9b67-30b8c1b5a981",
    "pycharm": {
     "is_executing": true,
     "name": "#%%\n"
    }
   },
   "outputs": [],
   "source": [
    "from autoai_libs.transformers.exportable import ColumnSelector\n",
    "from autoai_libs.transformers.exportable import NumpyColumnSelector\n",
    "from autoai_libs.transformers.exportable import CompressStrings\n",
    "from autoai_libs.transformers.exportable import NumpyReplaceMissingValues\n",
    "from autoai_libs.transformers.exportable import NumpyReplaceUnknownValues\n",
    "from autoai_libs.transformers.exportable import boolean2float\n",
    "from autoai_libs.transformers.exportable import CatImputer\n",
    "from autoai_libs.transformers.exportable import CatEncoder\n",
    "import numpy as np\n",
    "from autoai_libs.transformers.exportable import float32_transform\n",
    "from sklearn.pipeline import make_pipeline\n",
    "from autoai_libs.transformers.exportable import FloatStr2Float\n",
    "from autoai_libs.transformers.exportable import NumImputer\n",
    "from autoai_libs.transformers.exportable import OptStandardScaler\n",
    "from sklearn.pipeline import make_union\n",
    "from autoai_libs.transformers.exportable import NumpyPermuteArray\n",
    "from snapml import SnapDecisionTreeClassifier"
   ]
  },
  {
   "cell_type": "markdown",
   "metadata": {},
   "source": [
    "#### Pre-processing & Estimator."
   ]
  },
  {
   "cell_type": "code",
   "execution_count": 11,
   "metadata": {
    "id": "8a438ee6-1dcb-449e-93d2-434a12ff8112",
    "pycharm": {
     "is_executing": true,
     "name": "#%%\n"
    }
   },
   "outputs": [],
   "source": [
    "column_selector_0 = ColumnSelector(\n",
    "    columns_indices_list=[\n",
    "        0, 1, 2, 3, 4, 5, 6, 7, 8, 9, 10, 11, 12, 13, 14, 15, 16, 17, 18, 21,\n",
    "        22, 23, 24, 25, 26, 27, 28, 29, 30, 31, 32, 33, 34, 35, 36, 37, 38,\n",
    "        39, 40,\n",
    "    ]\n",
    ")\n",
    "numpy_column_selector_0 = NumpyColumnSelector(\n",
    "    columns=[1, 2, 3, 6, 7, 8, 9, 10, 11, 12, 13, 14, 15, 16, 17, 18, 19]\n",
    ")\n",
    "compress_strings = CompressStrings(\n",
    "    compress_type=\"hash\",\n",
    "    dtypes_list=[\n",
    "        \"char_str\", \"char_str\", \"char_str\", \"float_int_num\", \"float_int_num\",\n",
    "        \"float_int_num\", \"float_int_num\", \"float_int_num\", \"float_int_num\",\n",
    "        \"float_int_num\", \"float_int_num\", \"float_int_num\", \"float_int_num\",\n",
    "        \"float_int_num\", \"float_int_num\", \"float_int_num\", \"float_int_num\",\n",
    "    ],\n",
    "    missing_values_reference_list=[\"\", \"-\", \"?\", float(\"nan\")],\n",
    "    misslist_list=[\n",
    "        [], [], [], [], [], [], [], [], [], [], [], [], [], [], [], [], [],\n",
    "    ],\n",
    ")\n",
    "numpy_replace_missing_values_0 = NumpyReplaceMissingValues(\n",
    "    filling_values=float(\"nan\"), missing_values=[]\n",
    ")\n",
    "numpy_replace_unknown_values = NumpyReplaceUnknownValues(\n",
    "    filling_values=float(\"nan\"),\n",
    "    filling_values_list=[\n",
    "        float(\"nan\"), float(\"nan\"), float(\"nan\"), 100001, 100001, 100001,\n",
    "        100001, 100001, 100001, 100001, 100001, 100001, 100001, 100001,\n",
    "        100001, 100001, 100001,\n",
    "    ],\n",
    "    missing_values_reference_list=[\"\", \"-\", \"?\", float(\"nan\")],\n",
    ")\n",
    "cat_imputer = CatImputer(\n",
    "    missing_values=float(\"nan\"),\n",
    "    sklearn_version_family=\"1\",\n",
    "    strategy=\"most_frequent\",\n",
    ")\n",
    "cat_encoder = CatEncoder(\n",
    "    dtype=np.float64,\n",
    "    handle_unknown=\"error\",\n",
    "    sklearn_version_family=\"1\",\n",
    "    encoding=\"ordinal\",\n",
    "    categories=\"auto\",\n",
    ")\n",
    "pipeline_0 = make_pipeline(\n",
    "    column_selector_0,\n",
    "    numpy_column_selector_0,\n",
    "    compress_strings,\n",
    "    numpy_replace_missing_values_0,\n",
    "    numpy_replace_unknown_values,\n",
    "    boolean2float(),\n",
    "    cat_imputer,\n",
    "    cat_encoder,\n",
    "    float32_transform(),\n",
    ")\n",
    "column_selector_1 = ColumnSelector(\n",
    "    columns_indices_list=[\n",
    "        0, 1, 2, 3, 4, 5, 6, 7, 8, 9, 10, 11, 12, 13, 14, 15, 16, 17, 18, 21,\n",
    "        22, 23, 24, 25, 26, 27, 28, 29, 30, 31, 32, 33, 34, 35, 36, 37, 38,\n",
    "        39, 40,\n",
    "    ]\n",
    ")\n",
    "numpy_column_selector_1 = NumpyColumnSelector(\n",
    "    columns=[\n",
    "        0, 4, 5, 20, 21, 22, 23, 24, 25, 26, 27, 28, 29, 30, 31, 32, 33, 34,\n",
    "        35, 36, 37, 38,\n",
    "    ]\n",
    ")\n",
    "float_str2_float = FloatStr2Float(\n",
    "    dtypes_list=[\n",
    "        \"float_int_num\", \"float_int_num\", \"float_int_num\", \"float_int_num\",\n",
    "        \"float_int_num\", \"float_num\", \"float_num\", \"float_num\", \"float_num\",\n",
    "        \"float_num\", \"float_num\", \"float_num\", \"float_int_num\",\n",
    "        \"float_int_num\", \"float_num\", \"float_num\", \"float_num\", \"float_num\",\n",
    "        \"float_num\", \"float_num\", \"float_num\", \"float_num\",\n",
    "    ],\n",
    "    missing_values_reference_list=[],\n",
    ")\n",
    "numpy_replace_missing_values_1 = NumpyReplaceMissingValues(\n",
    "    filling_values=float(\"nan\"), missing_values=[]\n",
    ")\n",
    "num_imputer = NumImputer(missing_values=float(\"nan\"), strategy=\"median\")\n",
    "opt_standard_scaler = OptStandardScaler(use_scaler_flag=False)\n",
    "pipeline_1 = make_pipeline(\n",
    "    column_selector_1,\n",
    "    numpy_column_selector_1,\n",
    "    float_str2_float,\n",
    "    numpy_replace_missing_values_1,\n",
    "    num_imputer,\n",
    "    opt_standard_scaler,\n",
    "    float32_transform(),\n",
    ")\n",
    "union = make_union(pipeline_0, pipeline_1)\n",
    "numpy_permute_array = NumpyPermuteArray(\n",
    "    axis=0,\n",
    "    permutation_indices=[\n",
    "        1, 2, 3, 6, 7, 8, 9, 10, 11, 12, 13, 14, 15, 16, 17, 18, 19, 0, 4, 5,\n",
    "        20, 21, 22, 23, 24, 25, 26, 27, 28, 29, 30, 31, 32, 33, 34, 35, 36,\n",
    "        37, 38,\n",
    "    ],\n",
    ")\n",
    "snap_decision_tree_classifier = SnapDecisionTreeClassifier(\n",
    "    n_jobs=CPU_NUMBER, random_state=33\n",
    ")\n"
   ]
  },
  {
   "cell_type": "markdown",
   "metadata": {},
   "source": [
    "#### Pipeline."
   ]
  },
  {
   "cell_type": "code",
   "execution_count": 12,
   "metadata": {
    "id": "8b874667-8a95-47d7-9f0d-188ac85825c8",
    "pycharm": {
     "is_executing": true,
     "name": "#%%\n"
    }
   },
   "outputs": [],
   "source": [
    "pipeline = make_pipeline(\n",
    "    union, numpy_permute_array, snap_decision_tree_classifier\n",
    ")"
   ]
  },
  {
   "cell_type": "markdown",
   "metadata": {},
   "source": [
    "<a id=\"train\"></a>\n",
    "## Train pipeline model\n"
   ]
  },
  {
   "cell_type": "markdown",
   "metadata": {
    "pycharm": {
     "name": "#%% md\n"
    }
   },
   "source": [
    "### Define scorer from the optimization metric\n",
    "This cell constructs the cell scorer based on the experiment metadata."
   ]
  },
  {
   "cell_type": "code",
   "execution_count": 13,
   "metadata": {
    "id": "9a62ad65-1237-47c2-8abe-2690c7974ed4",
    "pycharm": {
     "is_executing": true,
     "name": "#%%\n"
    }
   },
   "outputs": [],
   "source": [
    "from sklearn.metrics import get_scorer\n",
    "\n",
    "scorer = get_scorer(experiment_metadata['scoring'])"
   ]
  },
  {
   "cell_type": "markdown",
   "metadata": {
    "pycharm": {
     "name": "#%% md\n"
    }
   },
   "source": [
    "<a id=\"test_model\"></a>\n",
    "### Fit pipeline model\n",
    "In this cell, the pipeline is fitted."
   ]
  },
  {
   "cell_type": "code",
   "execution_count": 14,
   "metadata": {
    "id": "574b154c-14f7-4529-a287-2d8ef8a7fe07",
    "pycharm": {
     "is_executing": true,
     "name": "#%%\n"
    },
    "scrolled": true
   },
   "outputs": [],
   "source": [
    "pipeline.fit(X_train.values, y_train.values.ravel());"
   ]
  },
  {
   "cell_type": "markdown",
   "metadata": {},
   "source": [
    "<a id=\"test_model\"></a>\n",
    "## Test pipeline model"
   ]
  },
  {
   "cell_type": "markdown",
   "metadata": {
    "pycharm": {
     "name": "#%% md\n"
    }
   },
   "source": [
    "Score the fitted pipeline with the generated scorer using the holdout dataset."
   ]
  },
  {
   "cell_type": "code",
   "execution_count": 15,
   "metadata": {
    "id": "2d2a0a41-beb9-40a4-8048-6c2ae084047a",
    "pycharm": {
     "is_executing": true,
     "name": "#%%\n"
    }
   },
   "outputs": [
    {
     "name": "stdout",
     "output_type": "stream",
     "text": [
      "0.9976190476190476\n"
     ]
    }
   ],
   "source": [
    "score = scorer(pipeline, X_test.values, y_test.values)\n",
    "print(score)"
   ]
  },
  {
   "cell_type": "code",
   "execution_count": 16,
   "metadata": {
    "id": "aa199a3e-095b-4cbf-8f17-4c6fe90cea17",
    "pycharm": {
     "name": "#%%\n"
    }
   },
   "outputs": [
    {
     "data": {
      "text/plain": [
       "array(['anomaly', 'anomaly', 'normal', 'normal', 'normal'], dtype='<U32')"
      ]
     },
     "execution_count": 16,
     "metadata": {},
     "output_type": "execute_result"
    }
   ],
   "source": [
    "pipeline.predict(X_test.values[:5])"
   ]
  },
  {
   "cell_type": "markdown",
   "metadata": {},
   "source": [
    "<a id=\"saving\"></a>\n",
    "## Store the model\n",
    "\n",
    "In this section you will learn how to store the trained model."
   ]
  },
  {
   "cell_type": "code",
   "execution_count": 17,
   "metadata": {
    "id": "bbba2330-8d24-42ff-a9b1-54bbce5187ba"
   },
   "outputs": [],
   "source": [
    "model_metadata = {\n",
    "    client.repository.ModelMetaNames.NAME: 'P2 - Pretrained AutoAI pipeline'\n",
    "}\n",
    "\n",
    "stored_model_details = client.repository.store_model(model=pipeline, meta_props=model_metadata, experiment_metadata=experiment_metadata)"
   ]
  },
  {
   "cell_type": "markdown",
   "metadata": {},
   "source": [
    "Inspect the stored model details."
   ]
  },
  {
   "cell_type": "code",
   "execution_count": 18,
   "metadata": {
    "id": "6b1e8efc-fa87-48a4-b4f7-31e61869ab7e"
   },
   "outputs": [
    {
     "data": {
      "text/plain": [
       "{'metadata': {'name': 'P2 - Pretrained AutoAI pipeline',\n",
       "  'project_id': '08cce406-9fd9-4ae7-b718-da7b8c415438',\n",
       "  'resource_key': '1c543ded-b00b-4655-9360-3a93357e63d6',\n",
       "  'id': 'bf29fe7f-be95-42f0-a83b-f5773e0bb160',\n",
       "  'created_at': '2025-08-07T14:38:06Z',\n",
       "  'rov': {'member_roles': {'IBMid-6950010GSD': {'user_iam_id': 'IBMid-6950010GSD',\n",
       "     'roles': ['OWNER']}}},\n",
       "  'owner': 'IBMid-6950010GSD'},\n",
       " 'entity': {'pipeline': {'id': '93f4607b-ca30-4f8e-b90c-7292ab065706'},\n",
       "  'software_spec': {'id': '8c1a58c6-62b5-4dc4-987a-df751c2756b6'},\n",
       "  'type': 'wml-hybrid_0.1',\n",
       "  'training_data_references': [{'type': 'data_asset',\n",
       "    'connection': None,\n",
       "    'location': {'href': '/v2/assets/5b4d15f6-2ec9-47ee-b24b-945e34a56161?project_id=08cce406-9fd9-4ae7-b718-da7b8c415438',\n",
       "     'id': '5b4d15f6-2ec9-47ee-b24b-945e34a56161'},\n",
       "    'schema': {'id': 'auto_ai_kb_input_schema',\n",
       "     'fields': [{'name': 'duration', 'type': 'double', 'nullable': False},\n",
       "      {'name': 'protocol_type', 'type': 'other', 'nullable': False},\n",
       "      {'name': 'service', 'type': 'other', 'nullable': False},\n",
       "      {'name': 'flag', 'type': 'other', 'nullable': False},\n",
       "      {'name': 'src_bytes', 'type': 'double', 'nullable': False},\n",
       "      {'name': 'dst_bytes', 'type': 'double', 'nullable': False},\n",
       "      {'name': 'land', 'type': 'double', 'nullable': False},\n",
       "      {'name': 'wrong_fragment', 'type': 'double', 'nullable': False},\n",
       "      {'name': 'urgent', 'type': 'double', 'nullable': False},\n",
       "      {'name': 'hot', 'type': 'double', 'nullable': False},\n",
       "      {'name': 'num_failed_logins', 'type': 'double', 'nullable': False},\n",
       "      {'name': 'logged_in', 'type': 'double', 'nullable': False},\n",
       "      {'name': 'num_compromised', 'type': 'double', 'nullable': False},\n",
       "      {'name': 'root_shell', 'type': 'double', 'nullable': False},\n",
       "      {'name': 'su_attempted', 'type': 'double', 'nullable': False},\n",
       "      {'name': 'num_root', 'type': 'double', 'nullable': False},\n",
       "      {'name': 'num_file_creations', 'type': 'double', 'nullable': False},\n",
       "      {'name': 'num_shells', 'type': 'double', 'nullable': False},\n",
       "      {'name': 'num_access_files', 'type': 'double', 'nullable': False},\n",
       "      {'name': 'num_outbound_cmds', 'type': 'double', 'nullable': False},\n",
       "      {'name': 'is_host_login', 'type': 'double', 'nullable': False},\n",
       "      {'name': 'is_guest_login', 'type': 'double', 'nullable': False},\n",
       "      {'name': 'count', 'type': 'double', 'nullable': False},\n",
       "      {'name': 'srv_count', 'type': 'double', 'nullable': False},\n",
       "      {'name': 'serror_rate', 'type': 'double', 'nullable': False},\n",
       "      {'name': 'srv_serror_rate', 'type': 'double', 'nullable': False},\n",
       "      {'name': 'rerror_rate', 'type': 'double', 'nullable': False},\n",
       "      {'name': 'srv_rerror_rate', 'type': 'double', 'nullable': False},\n",
       "      {'name': 'same_srv_rate', 'type': 'double', 'nullable': False},\n",
       "      {'name': 'diff_srv_rate', 'type': 'double', 'nullable': False},\n",
       "      {'name': 'srv_diff_host_rate', 'type': 'double', 'nullable': False},\n",
       "      {'name': 'dst_host_count', 'type': 'double', 'nullable': False},\n",
       "      {'name': 'dst_host_srv_count', 'type': 'double', 'nullable': False},\n",
       "      {'name': 'dst_host_same_srv_rate', 'type': 'double', 'nullable': False},\n",
       "      {'name': 'dst_host_diff_srv_rate', 'type': 'double', 'nullable': False},\n",
       "      {'name': 'dst_host_same_src_port_rate',\n",
       "       'type': 'double',\n",
       "       'nullable': False},\n",
       "      {'name': 'dst_host_srv_diff_host_rate',\n",
       "       'type': 'double',\n",
       "       'nullable': False},\n",
       "      {'name': 'dst_host_serror_rate', 'type': 'double', 'nullable': False},\n",
       "      {'name': 'dst_host_srv_serror_rate',\n",
       "       'type': 'double',\n",
       "       'nullable': False},\n",
       "      {'name': 'dst_host_rerror_rate', 'type': 'double', 'nullable': False},\n",
       "      {'name': 'dst_host_srv_rerror_rate',\n",
       "       'type': 'double',\n",
       "       'nullable': False},\n",
       "      {'name': 'class', 'type': 'other', 'nullable': False}]}}],\n",
       "  'schemas': {'input': [{'id': '1',\n",
       "     'type': 'struct',\n",
       "     'fields': [{'name': 'duration', 'type': 'double', 'nullable': False},\n",
       "      {'name': 'protocol_type', 'type': 'other', 'nullable': False},\n",
       "      {'name': 'service', 'type': 'other', 'nullable': False},\n",
       "      {'name': 'flag', 'type': 'other', 'nullable': False},\n",
       "      {'name': 'src_bytes', 'type': 'double', 'nullable': False},\n",
       "      {'name': 'dst_bytes', 'type': 'double', 'nullable': False},\n",
       "      {'name': 'land', 'type': 'double', 'nullable': False},\n",
       "      {'name': 'wrong_fragment', 'type': 'double', 'nullable': False},\n",
       "      {'name': 'urgent', 'type': 'double', 'nullable': False},\n",
       "      {'name': 'hot', 'type': 'double', 'nullable': False},\n",
       "      {'name': 'num_failed_logins', 'type': 'double', 'nullable': False},\n",
       "      {'name': 'logged_in', 'type': 'double', 'nullable': False},\n",
       "      {'name': 'num_compromised', 'type': 'double', 'nullable': False},\n",
       "      {'name': 'root_shell', 'type': 'double', 'nullable': False},\n",
       "      {'name': 'su_attempted', 'type': 'double', 'nullable': False},\n",
       "      {'name': 'num_root', 'type': 'double', 'nullable': False},\n",
       "      {'name': 'num_file_creations', 'type': 'double', 'nullable': False},\n",
       "      {'name': 'num_shells', 'type': 'double', 'nullable': False},\n",
       "      {'name': 'num_access_files', 'type': 'double', 'nullable': False},\n",
       "      {'name': 'num_outbound_cmds', 'type': 'double', 'nullable': False},\n",
       "      {'name': 'is_host_login', 'type': 'double', 'nullable': False},\n",
       "      {'name': 'is_guest_login', 'type': 'double', 'nullable': False},\n",
       "      {'name': 'count', 'type': 'double', 'nullable': False},\n",
       "      {'name': 'srv_count', 'type': 'double', 'nullable': False},\n",
       "      {'name': 'serror_rate', 'type': 'double', 'nullable': False},\n",
       "      {'name': 'srv_serror_rate', 'type': 'double', 'nullable': False},\n",
       "      {'name': 'rerror_rate', 'type': 'double', 'nullable': False},\n",
       "      {'name': 'srv_rerror_rate', 'type': 'double', 'nullable': False},\n",
       "      {'name': 'same_srv_rate', 'type': 'double', 'nullable': False},\n",
       "      {'name': 'diff_srv_rate', 'type': 'double', 'nullable': False},\n",
       "      {'name': 'srv_diff_host_rate', 'type': 'double', 'nullable': False},\n",
       "      {'name': 'dst_host_count', 'type': 'double', 'nullable': False},\n",
       "      {'name': 'dst_host_srv_count', 'type': 'double', 'nullable': False},\n",
       "      {'name': 'dst_host_same_srv_rate', 'type': 'double', 'nullable': False},\n",
       "      {'name': 'dst_host_diff_srv_rate', 'type': 'double', 'nullable': False},\n",
       "      {'name': 'dst_host_same_src_port_rate',\n",
       "       'type': 'double',\n",
       "       'nullable': False},\n",
       "      {'name': 'dst_host_srv_diff_host_rate',\n",
       "       'type': 'double',\n",
       "       'nullable': False},\n",
       "      {'name': 'dst_host_serror_rate', 'type': 'double', 'nullable': False},\n",
       "      {'name': 'dst_host_srv_serror_rate',\n",
       "       'type': 'double',\n",
       "       'nullable': False},\n",
       "      {'name': 'dst_host_rerror_rate', 'type': 'double', 'nullable': False},\n",
       "      {'name': 'dst_host_srv_rerror_rate',\n",
       "       'type': 'double',\n",
       "       'nullable': False}]}],\n",
       "   'output': []},\n",
       "  'label_column': 'class'}}"
      ]
     },
     "execution_count": 18,
     "metadata": {},
     "output_type": "execute_result"
    }
   ],
   "source": [
    "stored_model_details"
   ]
  },
  {
   "cell_type": "markdown",
   "metadata": {
    "collapsed": false,
    "jupyter": {
     "outputs_hidden": false
    }
   },
   "source": [
    "<a id=\"deployment\"></a>\n",
    "## Create online deployment"
   ]
  },
  {
   "cell_type": "markdown",
   "metadata": {},
   "source": [
    "You can use the commands below to promote the model to space and create online deployment (web service).\n",
    "\n",
    "<a id=\"working_spaces\"></a>\n",
    "### Working with spaces\n",
    "\n",
    "In this section you will specify a deployment space for organizing the assets for deploying and scoring the model. If you do not have an existing space, you can use <a href=\"https://au-syd.dai.cloud.ibm.com/ml-runtime/dashboard?context=wx\">Deployment Spaces Dashboard</a> to create a new space, following these steps:\n",
    "\n",
    "- Click **New Deployment Space**.\n",
    "- Create an empty space.\n",
    "- Select Cloud Object Storage.\n",
    "- Select watsonx.ai Runtime and press **Create**.\n",
    "- Copy `space_id` and paste it below.\n",
    "\n",
    "**Tip**: You can also use the API to prepare the space for your work. Learn more [here](https://github.com/IBM/watson-machine-learning-samples/blob/master/cloud/notebooks/python_sdk/instance-management/Space%20management.ipynb).\n",
    "\n",
    "**Info**: Below cells are `raw` type - in order to run them, change their type to `code` and run them (no need to restart the notebook). You may need to add some additional info (see the **action** below).\n",
    "\n",
    "**Action**: Assign or update space ID below.\n"
   ]
  },
  {
   "cell_type": "raw",
   "metadata": {
    "collapsed": false,
    "jupyter": {
     "outputs_hidden": false
    }
   },
   "source": [
    "space_id = \"PUT_YOUR_SPACE_ID_HERE\"\n",
    "\n",
    "model_id = client.spaces.promote(asset_id=stored_model_details[\"metadata\"][\"id\"], source_project_id=experiment_metadata[\"project_id\"], target_space_id=space_id)"
   ]
  },
  {
   "cell_type": "markdown",
   "metadata": {
    "collapsed": false,
    "jupyter": {
     "outputs_hidden": false
    }
   },
   "source": [
    "#### Prepare online deployment"
   ]
  },
  {
   "cell_type": "raw",
   "metadata": {
    "collapsed": false,
    "jupyter": {
     "outputs_hidden": false
    }
   },
   "source": [
    "client.set.default_space(space_id)\n",
    "\n",
    "deploy_meta = {\n",
    "        client.deployments.ConfigurationMetaNames.NAME: \"Incrementally trained AutoAI pipeline\",\n",
    "        client.deployments.ConfigurationMetaNames.ONLINE: {},\n",
    "    }\n",
    "\n",
    "deployment_details = client.deployments.create(artifact_uid=model_id, meta_props=deploy_meta)\n",
    "deployment_id = client.deployments.get_id(deployment_details)"
   ]
  },
  {
   "cell_type": "markdown",
   "metadata": {
    "collapsed": false,
    "jupyter": {
     "outputs_hidden": false
    }
   },
   "source": [
    "#### Test online deployment"
   ]
  },
  {
   "cell_type": "raw",
   "metadata": {
    "collapsed": false,
    "jupyter": {
     "outputs_hidden": false
    }
   },
   "source": [
    "import pandas as pd\n",
    "\n",
    "scoring_payload = {\n",
    "    \"input_data\": [{\n",
    "        'values': pd.DataFrame(X_test[:5])\n",
    "    }]\n",
    "}\n",
    "\n",
    "client.deployments.score(deployment_id, scoring_payload)"
   ]
  },
  {
   "cell_type": "markdown",
   "metadata": {
    "collapsed": false,
    "jupyter": {
     "outputs_hidden": false
    }
   },
   "source": [
    "<a id=\"cleanup\"></a>\n",
    "### Deleting deployment\n",
    "You can delete the existing deployment by calling the `client.deployments.delete(deployment_id)` command.\n",
    "To list the existing web services, use `client.deployments.list()`."
   ]
  },
  {
   "cell_type": "markdown",
   "metadata": {},
   "source": [
    "<a id=\"summary_and_next_steps\"></a>\n",
    "# Summary and next steps\n",
    "You successfully completed this notebook!\n",
    "You learned how to use AutoAI pipeline definition to train the model.\n",
    "Check out our [Online Documentation](https://www.ibm.com/cloud/watson-studio/autoai) for more samples, tutorials, documentation, how-tos, and blog posts."
   ]
  },
  {
   "cell_type": "markdown",
   "metadata": {},
   "source": [
    "<a id=\"copyrights\"></a>\n",
    "### Copyrights\n",
    "\n",
    "Licensed Materials - Copyright © 2025 IBM. This notebook and its source code are released under the terms of the ILAN License. Use, duplication disclosure restricted by GSA ADP Schedule Contract with IBM Corp.\n",
    "\n",
    "**Note:** The auto-generated notebooks are subject to the International License Agreement for Non-Warranted Programs (or equivalent) and License Information document for Watson Studio Auto-generated Notebook (License Terms), such agreements located in the link below. Specifically, the Source Components and Sample Materials clause included in the License Information document for Watson Studio Auto-generated Notebook applies to the auto-generated notebooks.  \n",
    "\n",
    "By downloading, copying, accessing, or otherwise using the materials, you agree to the <a href=\"https://www14.software.ibm.com/cgi-bin/weblap/lap.pl?li_formnum=L-AMCU-BYC7LF\">License Terms</a>\n",
    "\n",
    "___"
   ]
  }
 ],
 "metadata": {
  "kernelspec": {
   "display_name": "Python 3.11",
   "language": "python",
   "name": "python3"
  },
  "language_info": {
   "codemirror_mode": {
    "name": "ipython",
    "version": 3
   },
   "file_extension": ".py",
   "mimetype": "text/x-python",
   "name": "python",
   "nbconvert_exporter": "python",
   "pygments_lexer": "ipython3",
   "version": "3.11.13"
  }
 },
 "nbformat": 4,
 "nbformat_minor": 4
}
